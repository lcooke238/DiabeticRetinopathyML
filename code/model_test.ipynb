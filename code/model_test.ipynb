{
 "cells": [
  {
   "cell_type": "code",
   "execution_count": 2,
   "metadata": {},
   "outputs": [],
   "source": [
    "# imports\n",
    "import numpy as np\n",
    "import tensorflow as tf\n",
    "import os\n",
    "\n",
    "# load model\n",
    "model = tf.keras.models.load_model('../data/saved_model_2')\n",
    "\n",
    "# load test data\n",
    "Xtest = np.load(\"../data/test/Xtestnew.npy\")\n",
    "Ytest = np.load(\"../data/test/Ytestnew.npy\")"
   ]
  },
  {
   "cell_type": "code",
   "execution_count": 3,
   "metadata": {},
   "outputs": [
    {
     "name": "stdout",
     "output_type": "stream",
     "text": [
      "887/887 [==============================] - 23s 25ms/step\n",
      "accuracy: 0.9357384441939121\n",
      "Sensitivity: 0.9290780141843972\n",
      "Specificity: 0.9369973190348525\n"
     ]
    }
   ],
   "source": [
    "# raw accuracy\n",
    "y_pred = model.predict(Xtest, batch_size=1)\n",
    "accuracy = 0\n",
    "for i in range(len(y_pred)):\n",
    "    if np.round(y_pred[i]) == np.round(Ytest[i]):\n",
    "        accuracy += 1\n",
    "print(f\"accuracy: {1-(accuracy/len(y_pred))}\")\n",
    "\n",
    "# get sensitivity and specificity, 0 is pos in orig data\n",
    "sens = 0\n",
    "sens_tot = 0\n",
    "spec = 0\n",
    "spec_tot = 0\n",
    "for i in range(len(y_pred)):\n",
    "    pred = np.round(y_pred[i])\n",
    "    tru = np.round(Ytest[i])\n",
    "    # sensitivity: number of correct positives out of all positives\n",
    "    if tru == 0:\n",
    "        sens_tot += 1\n",
    "        if tru != pred:\n",
    "            sens += 1\n",
    "    # specificity: number of correct negatives out of all negatives\n",
    "    elif tru == 1:\n",
    "        spec_tot += 1\n",
    "        if tru != pred:\n",
    "            spec += 1\n",
    "#display both\n",
    "print(f\"Sensitivity: {sens/sens_tot}\")\n",
    "print(f\"Specificity: {spec/spec_tot}\")"
   ]
  }
 ],
 "metadata": {
  "kernelspec": {
   "display_name": "urmom",
   "language": "python",
   "name": "python3"
  },
  "language_info": {
   "codemirror_mode": {
    "name": "ipython",
    "version": 3
   },
   "file_extension": ".py",
   "mimetype": "text/x-python",
   "name": "python",
   "nbconvert_exporter": "python",
   "pygments_lexer": "ipython3",
   "version": "3.10.9"
  },
  "orig_nbformat": 4
 },
 "nbformat": 4,
 "nbformat_minor": 2
}
