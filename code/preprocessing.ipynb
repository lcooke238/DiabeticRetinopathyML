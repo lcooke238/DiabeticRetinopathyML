{
 "cells": [
  {
   "cell_type": "code",
   "execution_count": 1,
   "metadata": {},
   "outputs": [],
   "source": [
    "# imports\n",
    "import os\n",
    "from pathlib import Path\n",
    "import cv2 #opencv-python\n",
    "from matplotlib import pyplot as plt\n",
    "import numpy as np\n",
    "from sklearn.model_selection import train_test_split"
   ]
  },
  {
   "attachments": {},
   "cell_type": "markdown",
   "metadata": {},
   "source": [
    "# Preprocessing"
   ]
  },
  {
   "cell_type": "code",
   "execution_count": 2,
   "metadata": {},
   "outputs": [],
   "source": [
    "def img_reshaper(orig_img):\n",
    "    new_img = []\n",
    "    for row in orig_img:\n",
    "        nrow = []\n",
    "        for item in row:\n",
    "            nrow.append([item, item, item])\n",
    "        new_img.append(nrow)\n",
    "    return new_img"
   ]
  },
  {
   "cell_type": "code",
   "execution_count": 3,
   "metadata": {},
   "outputs": [],
   "source": [
    "# Preprocess(img: string): given filepath img to an image, returns the preprocessed cv2 image object\n",
    "    # throws invalidArgument error if img is not a valid path\n",
    "def Preprocess(img):\n",
    "    try:\n",
    "        i = cv2.imread(img)\n",
    "        img_gray = cv2.cvtColor(i, cv2.COLOR_BGR2GRAY)\n",
    "        img_hcontrast = cv2.equalizeHist(img_gray)\n",
    "        blur = cv2.GaussianBlur(img_hcontrast, (0,0), sigmaX=33, sigmaY=33)\n",
    "        divide = cv2.divide(img_hcontrast, blur, scale=255)\n",
    "        th3 = cv2.adaptiveThreshold(divide,255,cv2.ADAPTIVE_THRESH_GAUSSIAN_C,\\\n",
    "            cv2.THRESH_BINARY,11,2)\n",
    "        small = cv2.resize(th3, (700,700))\n",
    "        return small\n",
    "    except:\n",
    "        raise ValueError(f\"input {img} is not a valid filepath.\")"
   ]
  },
  {
   "cell_type": "code",
   "execution_count": 4,
   "metadata": {},
   "outputs": [
    {
     "name": "stdout",
     "output_type": "stream",
     "text": [
      "starting directory 06\n",
      "starting directory 05\n",
      "starting directory 01\n"
     ]
    },
    {
     "ename": "",
     "evalue": "",
     "output_type": "error",
     "traceback": [
      "\u001b[1;31mThe Kernel crashed while executing code in the the current cell or a previous cell. Please review the code in the cell(s) to identify a possible cause of the failure. Click <a href='https://aka.ms/vscodeJupyterKernelCrash'>here</a> for more info. View Jupyter <a href='command:jupyter.viewOutput'>log</a> for further details."
     ]
    },
    {
     "ename": "",
     "evalue": "",
     "output_type": "error",
     "traceback": [
      "\u001b[1;31mCanceled future for execute_request message before replies were done"
     ]
    }
   ],
   "source": [
    "# initialize data\n",
    "ref_imgs = []\n",
    "nonref_imgs = []\n",
    "\n",
    "# iterate through all images in dataset\n",
    "data_dir = os.path.join(os.getcwd(), \"../data/SAUNAR/\")\n",
    "img_dirs = [name for name in os.listdir(data_dir) if os.path.isdir(data_dir + name)]\n",
    "for d in img_dirs:\n",
    "    print(f\"starting directory {d[:2]}\")\n",
    "    # process and store nonref images from the 01 and 02 folders\n",
    "    if d[:2] == \"01\" or d[:2] == \"02\":\n",
    "        for i in os.listdir(data_dir + d):\n",
    "            nonref_imgs.append(Preprocess(os.path.join(data_dir + d,i)))\n",
    "    # pass on non-classifiable images from 00 and 10 folders\n",
    "    elif d[:2] == \"00\" or d[:2] == \"10\":\n",
    "        pass\n",
    "    # process and store ref images from all other folders\n",
    "    else:\n",
    "        for i in os.listdir(data_dir + d):\n",
    "            ref_imgs.append(Preprocess(os.path.join(data_dir + d,i)))"
   ]
  },
  {
   "cell_type": "code",
   "execution_count": null,
   "metadata": {},
   "outputs": [],
   "source": [
    "# save processed image data to file\n",
    "np.save(\"../data/processed/ref_imgsn.npy\", ref_imgs)\n",
    "np.save(\"../data/processed/nonref_imgsn.npy\", nonref_imgs)"
   ]
  },
  {
   "cell_type": "code",
   "execution_count": null,
   "metadata": {},
   "outputs": [],
   "source": [
    "# train test split\n",
    "#sklearn.model_selection.train_test_split(*arrays, test_size=None, train_size=None, random_state=None, shuffle=True, stratify=None)[source]\n",
    "ref_imgs_load = np.load(\"../data/processed/ref_imgsn.npy\")\n",
    "nonref_imgs_load = np.load(\"../data/processed/nonref_imgsn.npy\")\n",
    "\n",
    "Xref_train, Xref_test, yref_train, yref_test = train_test_split(ref_imgs_load, np.zeros(len(ref_imgs_load)), test_size=.2)\n",
    "Xnref_train, Xnref_test, ynref_train, ynref_test = train_test_split(nonref_imgs_load, np.ones(len(nonref_imgs_load)), test_size=.2)\n"
   ]
  },
  {
   "cell_type": "code",
   "execution_count": null,
   "metadata": {},
   "outputs": [],
   "source": [
    "Xtrain = np.concatenate((Xref_train, Xnref_train))\n",
    "Ytrain = np.concatenate((yref_train, ynref_train))\n",
    "Xtest = np.concatenate((Xref_test, Xnref_test))\n",
    "Ytest = np.concatenate((yref_test, ynref_test))\n",
    "\n",
    "# save split to files\n",
    "# save processed image data to file\n",
    "np.save(\"../data/test/Xtestnew.npy\", Xtest)\n",
    "np.save(\"../data/test/Ytestnew.npy\", Ytest)\n",
    "np.save(\"../data/train/Xtrainnew.npy\", Xtrain)\n",
    "np.save(\"../data/train/Ytrainnew.npy\", Ytrain)"
   ]
  },
  {
   "attachments": {},
   "cell_type": "markdown",
   "metadata": {},
   "source": [
    "# grayscale conversion"
   ]
  },
  {
   "cell_type": "code",
   "execution_count": 2,
   "metadata": {},
   "outputs": [],
   "source": [
    "# load data\n",
    "Xtrain = np.load(\"../data/train/Xtrain.npy\")\n",
    "Ytrain = np.load(\"../data/train/Ytrain.npy\")\n",
    "# Xtest = np.load(\"../data/test/Xtest.npy\")\n",
    "# Ytest = np.load(\"../data/test/Ytest.npy\")\n",
    "\n",
    "# balance classes\n",
    "Ytrain_use = Ytrain[:1124]\n",
    "Xtrain_use = Xtrain[:1124]\n",
    "del Xtrain\n",
    "del Ytrain\n",
    "# Ytest_use = Ytest[:282]\n",
    "# Xtest_use = Xtest[:282]\n",
    "\n",
    "# define image reshaper function to create rgb values for each pixel in the image\n",
    "def img_reshaper(orig_img):\n",
    "    new_img = []\n",
    "    for row in orig_img:\n",
    "        nrow = []\n",
    "        for item in row:\n",
    "            nrow.append([item, item, item])\n",
    "        new_img.append(nrow)\n",
    "    return new_img"
   ]
  },
  {
   "cell_type": "code",
   "execution_count": 3,
   "metadata": {},
   "outputs": [],
   "source": [
    "# reshape Xtrain\n",
    "Xtrain_temp = []\n",
    "c = 1\n",
    "for img in Xtrain_use:\n",
    "    Xtrain_temp.append(img_reshaper(img))\n",
    "    print(f\"{c} out of 1124 complete.\")\n",
    "    c+=1\n",
    "Xtrain_new = np.array(Xtrain_temp)"
   ]
  },
  {
   "cell_type": "code",
   "execution_count": 14,
   "metadata": {},
   "outputs": [
    {
     "name": "stdout",
     "output_type": "stream",
     "text": [
      "37 out of 1124 complete.\n",
      "38 out of 1124 complete.\n",
      "39 out of 1124 complete.\n",
      "40 out of 1124 complete.\n"
     ]
    }
   ],
   "source": [
    "# for i in range(4):\n",
    "#     Xtrain_temp.append(img_reshaper(Xtrain_use[i]))\n",
    "#     print(f\"{c} out of 1124 complete.\")\n",
    "#     c+=1\n",
    "#     Xtrain_use = Xtrain_use[1:]"
   ]
  },
  {
   "cell_type": "code",
   "execution_count": 6,
   "metadata": {},
   "outputs": [
    {
     "data": {
      "text/plain": [
       "8"
      ]
     },
     "execution_count": 6,
     "metadata": {},
     "output_type": "execute_result"
    }
   ],
   "source": [
    "# check shape for correctness\n",
    "#Xtrain_temp.shape\n",
    "len(Xtrain_temp)"
   ]
  },
  {
   "cell_type": "code",
   "execution_count": null,
   "metadata": {},
   "outputs": [],
   "source": [
    "# save modified Xtrain and Ytrain\n",
    "np.save(\"../data/train/Xtrain_final.npy\", Xtrain_new)\n",
    "np.save(\"../data/train/Ytrain_final.npy\", Ytrain_use)"
   ]
  },
  {
   "cell_type": "code",
   "execution_count": null,
   "metadata": {},
   "outputs": [],
   "source": [
    "# reshape Xtest\n",
    "Xtest_temp = []\n",
    "c = 1\n",
    "for img in Xtest_use:\n",
    "    Xtest_temp.append(img_reshaper(img))\n",
    "    print(f\"{c} out of 1124 complete.\")\n",
    "    c+=1\n",
    "Xtest_new = np.array(Xtrain_temp)"
   ]
  },
  {
   "cell_type": "code",
   "execution_count": null,
   "metadata": {},
   "outputs": [],
   "source": [
    "# check shape for correctness\n",
    "Xtest_new.shape"
   ]
  },
  {
   "cell_type": "code",
   "execution_count": null,
   "metadata": {},
   "outputs": [],
   "source": [
    "# save modified Xtest and Ytest\n",
    "np.save(\"../data/train/Xtest_final.npy\", Xtest_new)\n",
    "np.save(\"../data/train/Ytest_final.npy\", Ytest_use)"
   ]
  }
 ],
 "metadata": {
  "kernelspec": {
   "display_name": "Python 3",
   "language": "python",
   "name": "python3"
  },
  "language_info": {
   "codemirror_mode": {
    "name": "ipython",
    "version": 3
   },
   "file_extension": ".py",
   "mimetype": "text/x-python",
   "name": "python",
   "nbconvert_exporter": "python",
   "pygments_lexer": "ipython3",
   "version": "3.11.2"
  },
  "orig_nbformat": 4
 },
 "nbformat": 4,
 "nbformat_minor": 2
}
