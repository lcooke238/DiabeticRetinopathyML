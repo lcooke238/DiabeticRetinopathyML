{
 "cells": [
  {
   "cell_type": "code",
   "execution_count": 1,
   "metadata": {},
   "outputs": [],
   "source": [
    "# imports\n",
    "import os\n",
    "from pathlib import Path\n",
    "import cv2 #opencv-python\n",
    "from matplotlib import pyplot as plt\n",
    "import pywt\n",
    "import numpy as np\n",
    "from sklearn.model_selection import train_test_split #scikit-learn"
   ]
  },
  {
   "attachments": {},
   "cell_type": "markdown",
   "metadata": {},
   "source": [
    "# Preprocessing"
   ]
  },
  {
   "cell_type": "code",
   "execution_count": 10,
   "metadata": {},
   "outputs": [],
   "source": [
    "# Preprocess(img: string): given filepath img to an image, returns the preprocessed cv2 image object\n",
    "    # throws invalidArgument error if img is not a valid path\n",
    "def Preprocess(img):\n",
    "    try:\n",
    "        i = cv2.imread(img)\n",
    "        img_gray = cv2.cvtColor(i, cv2.COLOR_BGR2GRAY)\n",
    "        img_hcontrast = cv2.equalizeHist(img_gray)\n",
    "        blur = cv2.GaussianBlur(img_hcontrast, (0,0), sigmaX=33, sigmaY=33)\n",
    "        divide = cv2.divide(img_hcontrast, blur, scale=255)\n",
    "        th3 = cv2.adaptiveThreshold(divide,255,cv2.ADAPTIVE_THRESH_GAUSSIAN_C,\\\n",
    "            cv2.THRESH_BINARY,11,2)\n",
    "        return th3\n",
    "    except:\n",
    "        raise ValueError(f\"input {img} is not a valid filepath.\")"
   ]
  },
  {
   "cell_type": "code",
   "execution_count": 13,
   "metadata": {},
   "outputs": [
    {
     "name": "stdout",
     "output_type": "stream",
     "text": [
      "starting directory 06\n",
      "starting directory 05\n",
      "starting directory 01\n",
      "starting directory 07\n",
      "starting directory 03\n",
      "starting directory 09\n",
      "starting directory 10\n",
      "starting directory 00\n",
      "starting directory 02\n",
      "starting directory 08\n",
      "starting directory 04\n"
     ]
    }
   ],
   "source": [
    "# initialize data\n",
    "ref_imgs = []\n",
    "nonref_imgs = []\n",
    "\n",
    "# iterate through all images in dataset\n",
    "data_dir = os.path.join(os.getcwd(), \"../data/SAUNAR/\")\n",
    "img_dirs = [name for name in os.listdir(data_dir) if os.path.isdir(data_dir + name)]\n",
    "for d in img_dirs:\n",
    "    print(f\"starting directory {d[:2]}\")\n",
    "    # process and store nonref images from the 01 and 02 folders\n",
    "    if d[:2] == \"01\" or d[:2] == \"02\":\n",
    "        for i in os.listdir(data_dir + d):\n",
    "            nonref_imgs.append(Preprocess(os.path.join(data_dir + d,i)))\n",
    "    # pass on non-classifiable images from 00 and 10 folders\n",
    "    elif d[:2] == \"00\" or d[:2] == \"10\":\n",
    "        pass\n",
    "    # process and store ref images from all other folders\n",
    "    else:\n",
    "        for i in os.listdir(data_dir + d):\n",
    "            ref_imgs.append(Preprocess(os.path.join(data_dir + d,i)))"
   ]
  },
  {
   "cell_type": "code",
   "execution_count": 17,
   "metadata": {},
   "outputs": [],
   "source": [
    "# save processed image data to file\n",
    "np.save(\"../data/processed/ref_imgs.npy\", ref_imgs)\n",
    "np.save(\"../data/processed/nonref_imgs.npy\", nonref_imgs)"
   ]
  },
  {
   "cell_type": "code",
   "execution_count": 2,
   "metadata": {},
   "outputs": [],
   "source": [
    "# train test split\n",
    "#sklearn.model_selection.train_test_split(*arrays, test_size=None, train_size=None, random_state=None, shuffle=True, stratify=None)[source]\n",
    "ref_imgs_load = np.load(\"../data/processed/ref_imgs.npy\")\n",
    "nonref_imgs_load = np.load(\"../data/processed/nonref_imgs.npy\")\n",
    "\n",
    "Xref_train, Xref_test, yref_train, yref_test = train_test_split(ref_imgs_load, np.zeros(len(ref_imgs_load)), test_size=.2)\n",
    "Xnref_train, Xnref_test, ynref_train, ynref_test = train_test_split(nonref_imgs_load, np.ones(len(nonref_imgs_load)), test_size=.2)\n"
   ]
  },
  {
   "cell_type": "code",
   "execution_count": 3,
   "metadata": {},
   "outputs": [],
   "source": [
    "Xtrain = np.concatenate((Xref_train, Xnref_train))\n",
    "Ytrain = np.concatenate((yref_train, ynref_train))\n",
    "Xtest = np.concatenate((Xref_test, Xnref_test))\n",
    "Ytest = np.concatenate((yref_test, ynref_test))\n",
    "\n",
    "# save split to files\n",
    "# save processed image data to file\n",
    "np.save(\"../data/test/Xtest.npy\", Xtest)\n",
    "np.save(\"../data/test/Ytest.npy\", Ytest)\n",
    "np.save(\"../data/train/Xtrain.npy\", Xtrain)\n",
    "np.save(\"../data/train/Ytrain.npy\", Ytrain)"
   ]
  }
 ],
 "metadata": {
  "kernelspec": {
   "display_name": "Python 3",
   "language": "python",
   "name": "python3"
  },
  "language_info": {
   "codemirror_mode": {
    "name": "ipython",
    "version": 3
   },
   "file_extension": ".py",
   "mimetype": "text/x-python",
   "name": "python",
   "nbconvert_exporter": "python",
   "pygments_lexer": "ipython3",
   "version": "3.11.2"
  },
  "orig_nbformat": 4
 },
 "nbformat": 4,
 "nbformat_minor": 2
}
